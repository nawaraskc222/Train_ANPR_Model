{
 "cells": [
  {
   "cell_type": "code",
   "execution_count": 23,
   "metadata": {},
   "outputs": [],
   "source": [
    "import numpy as np\n",
    "import cv2\n",
    "import matplotlib.pyplot as plt\n",
    "import tensorflow as tf\n",
    "from tensorflow.keras.preprocessing.image import load_img, img_to_array"
   ]
  },
  {
   "cell_type": "code",
   "execution_count": null,
   "metadata": {},
   "outputs": [],
   "source": []
  },
  {
   "cell_type": "code",
   "execution_count": null,
   "metadata": {},
   "outputs": [],
   "source": [
    "# load model\n",
    "model = tf.keras.models.load_model('./models/my_object_detection.keras')\n",
    "print('model loaded sucessfully')"
   ]
  },
  {
   "cell_type": "code",
   "execution_count": null,
   "metadata": {},
   "outputs": [],
   "source": [
    "path = './test_images/N207.jpeg'\n",
    "image = load_img(path) # PIL object\n",
    "image = np.array(image,dtype=np.uint8) # 8 bit array (0,255)\n",
    "image1 = load_img(path,target_size=(224,224))\n",
    "image_arr_224 = img_to_array(image1)/255.0  # convert into array and get the normalized output"
   ]
  },
  {
   "cell_type": "code",
   "execution_count": null,
   "metadata": {},
   "outputs": [],
   "source": [
    "# size of the orginal image\n",
    "h,w,d = image.shape\n",
    "print('Height of the image =',h)\n",
    "print('Width of the image =',w)"
   ]
  },
  {
   "cell_type": "code",
   "execution_count": null,
   "metadata": {},
   "outputs": [],
   "source": [
    "plt.figure(figsize=(10,8))\n",
    "plt.imshow(image)\n",
    "plt.show()"
   ]
  },
  {
   "cell_type": "code",
   "execution_count": null,
   "metadata": {},
   "outputs": [],
   "source": [
    "image_arr_224.shape"
   ]
  },
  {
   "cell_type": "code",
   "execution_count": null,
   "metadata": {},
   "outputs": [],
   "source": [
    "test_arr = image_arr_224.reshape(1,224,224,3)\n",
    "test_arr.shape"
   ]
  },
  {
   "cell_type": "code",
   "execution_count": null,
   "metadata": {},
   "outputs": [],
   "source": [
    "# make predictions\n",
    "coords = model.predict(test_arr)\n",
    "coords"
   ]
  },
  {
   "cell_type": "code",
   "execution_count": null,
   "metadata": {},
   "outputs": [],
   "source": [
    "# denormalize the values\n",
    "denorm = np.array([w,w,h,h])\n",
    "coords = coords * denorm\n",
    "coords"
   ]
  },
  {
   "cell_type": "code",
   "execution_count": null,
   "metadata": {},
   "outputs": [],
   "source": [
    "coords = coords.astype(np.int32)\n",
    "coords"
   ]
  },
  {
   "cell_type": "code",
   "execution_count": null,
   "metadata": {},
   "outputs": [],
   "source": [
    "# draw bounding on top the image\n",
    "xmin, xmax,ymin,ymax = coords[0]\n",
    "pt1 =(xmin,ymin)\n",
    "pt2 =(xmax,ymax)\n",
    "print(pt1, pt2)\n",
    "cv2.rectangle(image,pt1,pt2,(0,255,0),3)\n",
    "\n",
    "plt.figure(figsize=(10,8))\n",
    "plt.imshow(image)\n",
    "plt.show()"
   ]
  },
  {
   "cell_type": "code",
   "execution_count": null,
   "metadata": {},
   "outputs": [],
   "source": [
    "# create pipeline\n",
    "path = './test_images/N207.jpeg'\n",
    "def object_detection(path):\n",
    "    # read image\n",
    "    image = load_img(path) # PIL object\n",
    "    image = np.array(image,dtype=np.uint8) # 8 bit array (0,255)\n",
    "    image1 = load_img(path,target_size=(224,224))\n",
    "    # data preprocessing\n",
    "    image_arr_224 = img_to_array(image1)/255.0  # convert into array and get the normalized output\n",
    "    h,w,d = image.shape\n",
    "    test_arr = image_arr_224.reshape(1,224,224,3)\n",
    "    # make predictions\n",
    "    coords = model.predict(test_arr)\n",
    "    # denormalize the values\n",
    "    denorm = np.array([w,w,h,h])\n",
    "    coords = coords * denorm\n",
    "    coords = coords.astype(np.int32)\n",
    "    # draw bounding on top the image\n",
    "    xmin, xmax,ymin,ymax = coords[0]\n",
    "    pt1 =(xmin,ymin)\n",
    "    pt2 =(xmax,ymax)\n",
    "    print(pt1, pt2)\n",
    "    cv2.rectangle(image,pt1,pt2,(0,255,0),3)\n",
    "    return image, coords"
   ]
  },
  {
   "cell_type": "code",
   "execution_count": null,
   "metadata": {},
   "outputs": [],
   "source": [
    "path = './test_images/N147.jpeg'\n",
    "image, cods = object_detection(path)\n",
    "\n",
    "plt.figure(figsize=(10,8))\n",
    "plt.imshow(image)\n",
    "plt.show()"
   ]
  },
  {
   "cell_type": "markdown",
   "metadata": {},
   "source": [
    "# Optical Character Recognition - OCR"
   ]
  },
  {
   "cell_type": "code",
   "execution_count": null,
   "metadata": {},
   "outputs": [],
   "source": [
    "import pytesseract as pt"
   ]
  },
  {
   "cell_type": "code",
   "execution_count": null,
   "metadata": {},
   "outputs": [],
   "source": [
    " path = './test_images/N207.jpeg'\n",
    " # path = './test_images/N207.jpeg'\n",
    "image, cods = object_detection(path)\n",
    "\n",
    "plt.figure(figsize=(10,8))\n",
    "plt.imshow(image)\n",
    "plt.show()"
   ]
  },
  {
   "cell_type": "code",
   "execution_count": null,
   "metadata": {},
   "outputs": [],
   "source": []
  },
  {
   "cell_type": "code",
   "execution_count": null,
   "metadata": {},
   "outputs": [],
   "source": [
    "img = np.array(load_img(path))\n",
    "xmin ,xmax,ymin,ymax = cods[0]\n",
    "roi = img[ymin:ymax,xmin:xmax]\n",
    "plt.imshow(roi)\n",
    "plt.show()"
   ]
  },
  {
   "cell_type": "code",
   "execution_count": null,
   "metadata": {},
   "outputs": [],
   "source": [
    "# extract text from image\n",
    "text = pt.image_to_string(roi)\n",
    "print(text)"
   ]
  },
  {
   "cell_type": "code",
   "execution_count": null,
   "metadata": {},
   "outputs": [],
   "source": [
    "import easyocr\n",
    "\n",
    "def extract_text_from_image(image_path):\n",
    "    # Initialize the EasyOCR reader\n",
    "    reader = easyocr.Reader(['en'])\n",
    "\n",
    "    # Read the image and extract text\n",
    "    result = reader.readtext(image_path)\n",
    "\n",
    "    # Extract text from the result\n",
    "    extracted_text = ' '.join([text[1] for text in result])\n",
    "\n",
    "    return extracted_text.strip()\n",
    "\n",
    "# Provide the path to your cropped number plate image\n",
    "image_path = roi\n",
    "extracted_text = extract_text_from_image(image_path)\n",
    "print(\"Extracted text from number plate:\", extracted_text)\n"
   ]
  },
  {
   "cell_type": "code",
   "execution_count": null,
   "metadata": {},
   "outputs": [],
   "source": [
    "\n"
   ]
  },
  {
   "cell_type": "code",
   "execution_count": null,
   "metadata": {},
   "outputs": [],
   "source": []
  }
 ],
 "metadata": {
  "kernelspec": {
   "display_name": "Python 3 (ipykernel)",
   "language": "python",
   "name": "python3"
  },
  "language_info": {
   "codemirror_mode": {
    "name": "ipython",
    "version": 3
   },
   "file_extension": ".py",
   "mimetype": "text/x-python",
   "name": "python",
   "nbconvert_exporter": "python",
   "pygments_lexer": "ipython3",
   "version": "3.12.2"
  }
 },
 "nbformat": 4,
 "nbformat_minor": 4
}
