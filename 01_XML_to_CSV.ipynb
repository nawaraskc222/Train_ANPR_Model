{
 "cells": [
  {
   "cell_type": "code",
   "execution_count": 1,
   "id": "f24bd431-1bbd-4296-a504-c6eeef2d0241",
   "metadata": {},
   "outputs": [],
   "source": [
    "import pandas as pd\n",
    "import xml.etree.ElementTree as xet\n",
    "from glob import glob"
   ]
  },
  {
   "cell_type": "code",
   "execution_count": 2,
   "id": "f2104474-a881-4515-b1ab-91cbaeab2a12",
   "metadata": {},
   "outputs": [
    {
     "data": {
      "text/plain": [
       "['images2\\\\Cars0.xml',\n",
       " 'images2\\\\Cars1.xml',\n",
       " 'images2\\\\Cars10.xml',\n",
       " 'images2\\\\Cars100.xml',\n",
       " 'images2\\\\Cars101.xml']"
      ]
     },
     "execution_count": 2,
     "metadata": {},
     "output_type": "execute_result"
    }
   ],
   "source": [
    "path = glob(\"images2/*.xml\")\n",
    "path[:5]"
   ]
  },
  {
   "cell_type": "code",
   "execution_count": 3,
   "id": "21059b0f-1587-4fa1-9660-c634ef8d0ef1",
   "metadata": {},
   "outputs": [
    {
     "name": "stdout",
     "output_type": "stream",
     "text": [
      "226 419 125 173\n"
     ]
    }
   ],
   "source": [
    "filename = path[0]\n",
    "info = xet.parse(filename)\n",
    "root = info.getroot()\n",
    "member_object = root.find(\"object\")\n",
    "labels_info = member_object.find(\"bndbox\")\n",
    "xmin = int(labels_info.find(\"xmin\").text)\n",
    "xmax = int(labels_info.find(\"xmax\").text)\n",
    "ymin = int(labels_info.find(\"ymin\").text)\n",
    "ymax = int(labels_info.find(\"ymax\").text)\n",
    "\n",
    "print(xmin,xmax,ymin,ymax)"
   ]
  },
  {
   "cell_type": "code",
   "execution_count": 4,
   "id": "41fd0be1-e5f8-42d0-a51a-12d588045020",
   "metadata": {},
   "outputs": [],
   "source": [
    "labels_dict = dict(filepath=[],xmin=[],xmax=[],ymin=[],ymax=[])\n",
    "\n",
    "for filename in path:\n",
    "    info = xet.parse(filename)\n",
    "    root = info.getroot()\n",
    "    member_object = root.find(\"object\")\n",
    "    labels_info = member_object.find(\"bndbox\")\n",
    "    xmin = int(labels_info.find(\"xmin\").text)\n",
    "    xmax = int(labels_info.find(\"xmax\").text)\n",
    "    ymin = int(labels_info.find(\"ymin\").text)\n",
    "    ymax = int(labels_info.find(\"ymax\").text)\n",
    "    labels_dict[\"filepath\"].append(filename)\n",
    "    labels_dict[\"xmin\"].append(xmin)\n",
    "    labels_dict[\"xmax\"].append(xmax)\n",
    "    labels_dict[\"ymin\"].append(ymin)\n",
    "    labels_dict[\"ymax\"].append(ymax)"
   ]
  },
  {
   "cell_type": "code",
   "execution_count": 5,
   "id": "43d95727-d0f1-4ca3-b85c-a503c0dffee1",
   "metadata": {},
   "outputs": [
    {
     "data": {
      "text/html": [
       "<div>\n",
       "<style scoped>\n",
       "    .dataframe tbody tr th:only-of-type {\n",
       "        vertical-align: middle;\n",
       "    }\n",
       "\n",
       "    .dataframe tbody tr th {\n",
       "        vertical-align: top;\n",
       "    }\n",
       "\n",
       "    .dataframe thead th {\n",
       "        text-align: right;\n",
       "    }\n",
       "</style>\n",
       "<table border=\"1\" class=\"dataframe\">\n",
       "  <thead>\n",
       "    <tr style=\"text-align: right;\">\n",
       "      <th></th>\n",
       "      <th>filepath</th>\n",
       "      <th>xmin</th>\n",
       "      <th>xmax</th>\n",
       "      <th>ymin</th>\n",
       "      <th>ymax</th>\n",
       "    </tr>\n",
       "  </thead>\n",
       "  <tbody>\n",
       "    <tr>\n",
       "      <th>0</th>\n",
       "      <td>images2\\Cars0.xml</td>\n",
       "      <td>226</td>\n",
       "      <td>419</td>\n",
       "      <td>125</td>\n",
       "      <td>173</td>\n",
       "    </tr>\n",
       "    <tr>\n",
       "      <th>1</th>\n",
       "      <td>images2\\Cars1.xml</td>\n",
       "      <td>134</td>\n",
       "      <td>262</td>\n",
       "      <td>128</td>\n",
       "      <td>160</td>\n",
       "    </tr>\n",
       "    <tr>\n",
       "      <th>2</th>\n",
       "      <td>images2\\Cars10.xml</td>\n",
       "      <td>140</td>\n",
       "      <td>303</td>\n",
       "      <td>5</td>\n",
       "      <td>148</td>\n",
       "    </tr>\n",
       "    <tr>\n",
       "      <th>3</th>\n",
       "      <td>images2\\Cars100.xml</td>\n",
       "      <td>175</td>\n",
       "      <td>214</td>\n",
       "      <td>114</td>\n",
       "      <td>131</td>\n",
       "    </tr>\n",
       "    <tr>\n",
       "      <th>4</th>\n",
       "      <td>images2\\Cars101.xml</td>\n",
       "      <td>167</td>\n",
       "      <td>240</td>\n",
       "      <td>202</td>\n",
       "      <td>220</td>\n",
       "    </tr>\n",
       "  </tbody>\n",
       "</table>\n",
       "</div>"
      ],
      "text/plain": [
       "              filepath  xmin  xmax  ymin  ymax\n",
       "0    images2\\Cars0.xml   226   419   125   173\n",
       "1    images2\\Cars1.xml   134   262   128   160\n",
       "2   images2\\Cars10.xml   140   303     5   148\n",
       "3  images2\\Cars100.xml   175   214   114   131\n",
       "4  images2\\Cars101.xml   167   240   202   220"
      ]
     },
     "execution_count": 5,
     "metadata": {},
     "output_type": "execute_result"
    }
   ],
   "source": [
    "df = pd.DataFrame(labels_dict)\n",
    "df.head()"
   ]
  },
  {
   "cell_type": "code",
   "execution_count": 6,
   "id": "afdbedde-1be9-4cc9-954c-88dc9d4a5385",
   "metadata": {},
   "outputs": [],
   "source": [
    "df.to_csv(\"./labels/FullDataTrain.csv\", index=False)"
   ]
  },
  {
   "cell_type": "code",
   "execution_count": null,
   "id": "e798c6eb-c5ca-4414-bc0b-63d751100563",
   "metadata": {},
   "outputs": [],
   "source": []
  },
  {
   "cell_type": "code",
   "execution_count": null,
   "id": "ac09b359-3420-476c-a899-7bcdf3357adb",
   "metadata": {},
   "outputs": [],
   "source": []
  },
  {
   "cell_type": "code",
   "execution_count": null,
   "id": "03158840-74a0-49ef-be8d-1b42050b8f7a",
   "metadata": {},
   "outputs": [],
   "source": []
  },
  {
   "cell_type": "code",
   "execution_count": null,
   "id": "23927037-6179-47c8-a143-d006166cd516",
   "metadata": {},
   "outputs": [],
   "source": []
  },
  {
   "cell_type": "code",
   "execution_count": null,
   "id": "85b1c279-1d24-4c54-8555-70b64c28f15c",
   "metadata": {},
   "outputs": [],
   "source": []
  }
 ],
 "metadata": {
  "kernelspec": {
   "display_name": "Python 3 (ipykernel)",
   "language": "python",
   "name": "python3"
  },
  "language_info": {
   "codemirror_mode": {
    "name": "ipython",
    "version": 3
   },
   "file_extension": ".py",
   "mimetype": "text/x-python",
   "name": "python",
   "nbconvert_exporter": "python",
   "pygments_lexer": "ipython3",
   "version": "3.12.2"
  }
 },
 "nbformat": 4,
 "nbformat_minor": 5
}
